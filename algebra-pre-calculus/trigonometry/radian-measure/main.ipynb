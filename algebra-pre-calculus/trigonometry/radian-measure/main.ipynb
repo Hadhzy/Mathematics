{
 "cells": [
  {
   "cell_type": "raw",
   "source": [
    "## Radian measure\n",
    "So far we have worked with degrees and we know that one complete revolution is $360^{\\circ}$. In calculus however we will use radians. A radian is defined as the angle subtended at the center of a circle by an arc equal in length to the radius of the circle. This is illustrated in the figure below.\n",
    "\n",
    " "
   ],
   "metadata": {
    "collapsed": false
   },
   "id": "a2a3174a542b708e"
  },
  {
   "cell_type": "code",
   "execution_count": 22,
   "outputs": [
    {
     "data": {
      "text/plain": "<Figure size 640x480 with 1 Axes>",
      "image/png": "[encoded data removed]"
     },
     "metadata": {},
     "output_type": "display_data"
    }
   ],
   "source": [
    "import matplotlib.pyplot as plt\n",
    "import numpy as np\n",
    "\n",
    "# Create a figure and axis\n",
    "fig, ax = plt.subplots()\n",
    "\n",
    "# Plot a circle\n",
    "circle = plt.Circle((0, 0), 1, color='b', fill=False)\n",
    "ax.add_patch(circle)\n",
    "\n",
    "# Plot the radius representing 1 radian\n",
    "angle_rad = 1\n",
    "angle_deg = np.degrees(angle_rad)\n",
    "x = np.cos(angle_rad)\n",
    "y = np.sin(angle_rad)\n",
    "ax.plot([0, x], [0, y], color='r', linestyle='--', linewidth=2, label='Radius = r')\n",
    "\n",
    "# Plot the line from the center to the end of the radian\n",
    "ax.plot([0, 1], [0, 0], color='r', linestyle='--', linewidth=2, label='Radius = r')\n",
    "\n",
    "# Plot the arc for 1 radian\n",
    "theta = np.linspace(0, angle_rad, 100)\n",
    "x_arc = np.cos(theta)\n",
    "y_arc = np.sin(theta)\n",
    "ax.plot(x_arc, y_arc, color='g', linewidth=2, label='Arc (1 radian) = r')\n",
    "\n",
    "# Set aspect ratio to be equal\n",
    "ax.set_aspect('equal', adjustable='box')\n",
    "\n",
    "# Set limits\n",
    "ax.set_xlim(-1.5, 1.5)\n",
    "ax.set_ylim(-1.5, 1.5)\n",
    "\n",
    "plt.axis('off')\n",
    "\n",
    "# Set labels\n",
    "ax.set_xlabel('X-axis')\n",
    "ax.set_ylabel('Y-axis')\n",
    "\n",
    "# Add legend\n",
    "ax.legend()\n",
    "\n",
    "# Show the plot\n",
    "plt.show()\n"
   ],
   "metadata": {
    "collapsed": false,
    "ExecuteTime": {
     "end_time": "2023-11-17T18:19:16.136119900Z",
     "start_time": "2023-11-17T18:19:16.080409Z"
    }
   },
   "id": "f9a746e454c20561"
  },
  {
   "cell_type": "markdown",
   "source": [
    "## Converting between degrees and radians\n",
    "We know that: $$ 2\\pi \\text{ radians} = 360^{\\circ} $$\n",
    "Therefore: $$ 1 \\text{ radian} = \\frac{360^{\\circ}}{2\\pi} = \\frac{180^{\\circ}}{\\pi} $$\n",
    "Conversely: $$ 1^{\\circ} = \\frac{2\\pi}{360} = \\frac{\\pi}{180} \\text{ radians} $$\n",
    "We can write our conversions then: \n",
    "$$ 30^{\\circ} = \\frac{\\pi}{180} \\cdot 30 = \\frac{\\pi}{6} \\text{ radians} $$\n",
    "$$ 45^{\\circ} = \\frac{\\pi}{180} \\cdot 45 = \\frac{\\pi}{4} \\text{ radians} $$\n",
    "$$ 60^{\\circ} = \\frac{\\pi}{180} \\cdot 60 = \\frac{\\pi}{3} \\text{ radians} $$\n",
    "$$ 90^{\\circ} = \\frac{\\pi}{180} \\cdot 90 = \\frac{\\pi}{2} \\text{ radians} $$\n",
    "$$ 120^{\\circ} = \\frac{\\pi}{180} \\cdot 120 = \\frac{2\\pi}{3} \\text{ radians} $$\n",
    "$$ 135^{\\circ} = \\frac{\\pi}{180} \\cdot 135 = \\frac{3\\pi}{4} \\text{ radians} $$\n",
    "$$ 150^{\\circ} = \\frac{\\pi}{180} \\cdot 150 = \\frac{5\\pi}{6} \\text{ radians} $$\n",
    "$$ 180^{\\circ} = \\frac{\\pi}{180} \\cdot 180 = \\pi \\text{ radians} $$\n",
    "$$ 270^{\\circ} = \\frac{\\pi}{180} \\cdot 270 = \\frac{3\\pi}{2} \\text{ radians} $$\n",
    "$$ 360^{\\circ} = \\frac{\\pi}{180} \\cdot 360 = 2\\pi \\text{ radians} $$\n"
   ],
   "metadata": {
    "collapsed": false
   },
   "id": "312fbf21ffc682a0"
  },
  {
   "cell_type": "code",
   "execution_count": 26,
   "outputs": [
    {
     "name": "stdout",
     "output_type": "stream",
     "text": [
      "0.52\n",
      "30.0\n"
     ]
    }
   ],
   "source": [
    "import numpy as np\n",
    "\n",
    "def from_degrees_to_radians(degrees):\n",
    "    return round((np.pi / 180) * degrees, 2)\n",
    "\n",
    "def from_radians_to_degrees(radians):\n",
    "    return round((180 / np.pi) * radians, 2)\n",
    "\n",
    "print(from_degrees_to_radians(30))\n",
    "print(from_radians_to_degrees(np.pi / 6))"
   ],
   "metadata": {
    "collapsed": false,
    "ExecuteTime": {
     "end_time": "2023-11-17T18:23:18.958138200Z",
     "start_time": "2023-11-17T18:23:18.950145700Z"
    }
   },
   "id": "887efc2d4cc8f7e7"
  },
  {
   "cell_type": "markdown",
   "source": [
    "## Arc length\n",
    "In order to calculate the line given by $l$ of an arc of a circle of radius $r$ subtended by an angle $\\theta$ we use the formula: $$ l = r \\theta $$ Since $$$\\theta$$\n"
   ],
   "metadata": {
    "collapsed": false
   },
   "id": "62419a960ffde15e"
  },
  {
   "cell_type": "code",
   "execution_count": 27,
   "outputs": [
    {
     "data": {
      "text/html": "<img src=\"arc_length.png\"/>",
      "text/plain": "<IPython.core.display.Image object>"
     },
     "metadata": {},
     "output_type": "display_data"
    }
   ],
   "source": [
    "from IPython.display import Image, display\n",
    "\n",
    "# Specify the URL of the image\n",
    "image_url = 'arc_length.png'\n",
    "\n",
    "# Display the image\n",
    "display(Image(url=image_url))"
   ],
   "metadata": {
    "collapsed": false,
    "ExecuteTime": {
     "end_time": "2023-11-17T18:28:05.532732700Z",
     "start_time": "2023-11-17T18:28:05.519868600Z"
    }
   },
   "id": "d3463ec83cbd244"
  },
  {
   "cell_type": "markdown",
   "source": [
    "If $l$ is the length of an arc of a circle of radius $r$ subtended by an angle $\\theta$ (measured in radians), then the radian measure of the angle is given by: $$ \\theta = \\frac{l}{r} $$\n",
    "Therefore: \n",
    "$$ \\theta \\text{ radians} = \\frac{l}{r} $$"
   ],
   "metadata": {
    "collapsed": false
   },
   "id": "44c92f3549cdda1c"
  }
 ],
 "metadata": {
  "kernelspec": {
   "display_name": "Python 3",
   "language": "python",
   "name": "python3"
  },
  "language_info": {
   "codemirror_mode": {
    "name": "ipython",
    "version": 2
   },
   "file_extension": ".py",
   "mimetype": "text/x-python",
   "name": "python",
   "nbconvert_exporter": "python",
   "pygments_lexer": "ipython2",
   "version": "2.7.6"
  }
 },
 "nbformat": 4,
 "nbformat_minor": 5
}
